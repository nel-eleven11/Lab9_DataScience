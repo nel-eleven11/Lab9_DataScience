{
  "cells": [
    {
      "cell_type": "markdown",
      "id": "d0376e5c",
      "metadata": {
        "id": "d0376e5c"
      },
      "source": [
        "# Laboratorio 9 Data Science\n",
        "\n",
        "## Nelson  García Bravatti\n"
      ]
    },
    {
      "cell_type": "markdown",
      "id": "c3951f86",
      "metadata": {
        "id": "c3951f86"
      },
      "source": [
        "# Fundamentos de Spark y Python — Laboratorio con DataFrames (Walmart Stock)"
      ]
    },
    {
      "cell_type": "markdown",
      "id": "1ab1a7a1",
      "metadata": {
        "id": "1ab1a7a1"
      },
      "source": [
        "**Curso:** Data Science Sección 20\n",
        "\n",
        "**Duración estimada:** 1.5–2.5 horas\n",
        "\n",
        "**Modalidad:** Individual (colaboración para dudas conceptuales permitida, entrega individual)"
      ]
    },
    {
      "cell_type": "markdown",
      "id": "6b55db2a",
      "metadata": {
        "id": "6b55db2a"
      },
      "source": [
        "## Objetivos de aprendizaje\n",
        "Al finalizar, podrá:\n",
        "1. Iniciar una **SparkSession** y trabajar con **PySpark DataFrames**.\n",
        "2. **Cargar** un CSV con encabezados e inferencia de tipos.\n",
        "3. Explorar estructura: **columnas**, **esquema** y **muestras**.\n",
        "4. Ejecutar **descriptivos** y agregaciones.\n",
        "5. Aplicar **filtros**, **transformaciones** y **creación de columnas**.\n",
        "6. Calcular medidas estadísticas (p. ej., **correlación de Pearson**).\n",
        "7. Realizar consultas **temporales** (día con máximo precio; máximos por año).\n",
        "8. Comunicar hallazgos de forma ordenada y reproducible.\n"
      ]
    },
    {
      "cell_type": "markdown",
      "id": "6074eb1e",
      "metadata": {
        "id": "6074eb1e"
      },
      "source": [
        "## Datos\n",
        "- **Archivo:** `walmart_stock.csv`\n",
        "- **Periodo:** 2012–2017\n",
        "- **Columnas típicas:** `Date`, `Open`, `High`, `Low`, `Close`, `Volume`, `Adj Close`\n",
        "\n",
        "> *Nota:* No modifique el CSV; todas las transformaciones se realizan en el notebook.\n"
      ]
    },
    {
      "cell_type": "markdown",
      "id": "88fc0d3f",
      "metadata": {
        "id": "88fc0d3f"
      },
      "source": [
        "## Requisitos previos\n",
        "- Python 3.9+ (o entorno equivalente en **Google Colab**)\n",
        "- **Apache Spark 3.x** con PySpark (o `pyspark` preinstalado en Colab)\n",
        "- Conocimientos básicos de: tipos de datos, funciones de agregación, y uso de notebooks.\n"
      ]
    },
    {
      "cell_type": "markdown",
      "id": "cdc20a97",
      "metadata": {
        "id": "cdc20a97"
      },
      "source": [
        "## Entregables\n",
        "1. **Notebook ejecutado** (`.ipynb`) con todas las celdas y salidas visibles.\n",
        "2. **Conclusiones breves** (5–10 líneas) al final del notebook con interpretaciones clave.\n",
        "3. Código **comentado** y ordenado.\n",
        "\n",
        "**Formato de entrega:** Subir `.ipynb` .\n"
      ]
    },
    {
      "cell_type": "markdown",
      "id": "081cb891",
      "metadata": {
        "id": "081cb891"
      },
      "source": [
        "## 1) Configuración del entorno\n",
        "**Opción A — Local:**\n",
        "```python\n",
        "from pyspark.sql import SparkSession\n",
        "spark = SparkSession.builder \\\n",
        "    .appName(\"Lab Spark DF — Walmart\") \\\n",
        "    .getOrCreate()\n",
        "print(\"Spark version:\", spark.version)\n",
        "```\n",
        "\n",
        "**Opción B — Colab (sugerida si no tiene Spark local):**\n",
        "```python\n",
        "!pip -q install pyspark\n",
        "from pyspark.sql import SparkSession\n",
        "spark = SparkSession.builder.appName(\"Lab Spark DF — Walmart\").getOrCreate()\n",
        "print(\"Spark version:\", spark.version)\n",
        "```\n"
      ]
    },
    {
      "cell_type": "markdown",
      "id": "393768ea",
      "metadata": {
        "id": "393768ea"
      },
      "source": [
        "## 2) Tareas (complete en orden y deje **toda** la evidencia en el notebook)"
      ]
    },
    {
      "cell_type": "markdown",
      "id": "bb4eb815",
      "metadata": {
        "id": "bb4eb815"
      },
      "source": [
        "### 2.1 Inicie una sesión de Spark (si no está iniciada)"
      ]
    },
    {
      "cell_type": "code",
      "source": [
        "!pip -q install pyspark"
      ],
      "metadata": {
        "id": "zVGzMzOei7am"
      },
      "id": "zVGzMzOei7am",
      "execution_count": 1,
      "outputs": []
    },
    {
      "cell_type": "code",
      "execution_count": 2,
      "id": "92570384-193d-414b-abe1-b40b6845956c",
      "metadata": {
        "colab": {
          "base_uri": "https://localhost:8080/"
        },
        "id": "92570384-193d-414b-abe1-b40b6845956c",
        "outputId": "252e60f8-3cd4-4e55-c6ec-1fe00b9aaf56"
      },
      "outputs": [
        {
          "output_type": "stream",
          "name": "stdout",
          "text": [
            "Spark version: 3.5.1\n"
          ]
        }
      ],
      "source": [
        "from pyspark.sql import SparkSession\n",
        "\n",
        "spark = SparkSession.builder.appName(\"Lab Spark DF — Walmart\").getOrCreate()\n",
        "print(\"Spark version:\", spark.version)"
      ]
    },
    {
      "cell_type": "markdown",
      "id": "8fd667b2",
      "metadata": {
        "id": "8fd667b2"
      },
      "source": [
        "### 2.2 Cargue el archivo CSV"
      ]
    },
    {
      "cell_type": "code",
      "execution_count": 3,
      "id": "57661cba-c17e-4027-8981-641611063cf3",
      "metadata": {
        "id": "57661cba-c17e-4027-8981-641611063cf3"
      },
      "outputs": [],
      "source": [
        "#Cargar el archivo CSV\n",
        "file_path = '/content/walmart_stock.csv'\n",
        "df_stocks = (\n",
        "    spark.read\n",
        "         .option(\"header\", True)\n",
        "         .option(\"inferSchema\", True)\n",
        "         .csv(file_path)\n",
        ")"
      ]
    },
    {
      "cell_type": "markdown",
      "id": "7d770e5e",
      "metadata": {
        "id": "7d770e5e"
      },
      "source": [
        "### 2.3 ¿Cuáles son los nombres de las columnas?"
      ]
    },
    {
      "cell_type": "code",
      "execution_count": 4,
      "id": "7285e8b5-265c-4a4c-9607-dd13ae2726cc",
      "metadata": {
        "colab": {
          "base_uri": "https://localhost:8080/"
        },
        "id": "7285e8b5-265c-4a4c-9607-dd13ae2726cc",
        "outputId": "1a050fbd-61f0-45ba-e7ae-f9d5e4915b5d"
      },
      "outputs": [
        {
          "output_type": "stream",
          "name": "stdout",
          "text": [
            "Columnas: ['Date', 'Open', 'High', 'Low', 'Close', 'Volume', 'Adj Close']\n"
          ]
        }
      ],
      "source": [
        "#Obtener los nombres de las columnas\n",
        "columns = df_stocks.columns\n",
        "print(\"Columnas:\", columns)"
      ]
    },
    {
      "cell_type": "markdown",
      "id": "b664b5e3",
      "metadata": {
        "id": "b664b5e3"
      },
      "source": [
        "### 2.4 Muestre el **esquema** de los datos"
      ]
    },
    {
      "cell_type": "code",
      "execution_count": 5,
      "id": "65bdf922-908e-4f24-b0ac-91527ec1a3f8",
      "metadata": {
        "colab": {
          "base_uri": "https://localhost:8080/"
        },
        "id": "65bdf922-908e-4f24-b0ac-91527ec1a3f8",
        "outputId": "3ee77492-fca0-4262-9dad-47581ca53ace"
      },
      "outputs": [
        {
          "output_type": "stream",
          "name": "stdout",
          "text": [
            "root\n",
            " |-- Date: date (nullable = true)\n",
            " |-- Open: double (nullable = true)\n",
            " |-- High: double (nullable = true)\n",
            " |-- Low: double (nullable = true)\n",
            " |-- Close: double (nullable = true)\n",
            " |-- Volume: integer (nullable = true)\n",
            " |-- Adj Close: double (nullable = true)\n",
            "\n"
          ]
        }
      ],
      "source": [
        "#Mostrar el esquema de los datos\n",
        "df_stocks.printSchema()"
      ]
    },
    {
      "cell_type": "markdown",
      "id": "c0e1d127",
      "metadata": {
        "id": "c0e1d127"
      },
      "source": [
        "### 2.5 Muestre las **primeras 5 filas**"
      ]
    },
    {
      "cell_type": "code",
      "execution_count": 6,
      "id": "37f3c68d-2831-416d-9d07-c27b58d631f6",
      "metadata": {
        "colab": {
          "base_uri": "https://localhost:8080/"
        },
        "id": "37f3c68d-2831-416d-9d07-c27b58d631f6",
        "outputId": "6facadfd-d79d-4295-df12-266c05332875"
      },
      "outputs": [
        {
          "output_type": "stream",
          "name": "stdout",
          "text": [
            "+----------+------------------+---------+---------+------------------+--------+------------------+\n",
            "|      Date|              Open|     High|      Low|             Close|  Volume|         Adj Close|\n",
            "+----------+------------------+---------+---------+------------------+--------+------------------+\n",
            "|2012-01-03|         59.970001|61.060001|59.869999|         60.330002|12668800|52.619234999999996|\n",
            "|2012-01-04|60.209998999999996|60.349998|59.470001|59.709998999999996| 9593300|         52.078475|\n",
            "|2012-01-05|         59.349998|59.619999|58.369999|         59.419998|12768200|         51.825539|\n",
            "|2012-01-06|         59.419998|59.450001|58.869999|              59.0| 8069400|          51.45922|\n",
            "|2012-01-09|         59.029999|59.549999|58.919998|             59.18| 6679300|51.616215000000004|\n",
            "+----------+------------------+---------+---------+------------------+--------+------------------+\n",
            "only showing top 5 rows\n",
            "\n"
          ]
        }
      ],
      "source": [
        "#Ver las primeras filas del dataframe\n",
        "df_stocks.show(5)"
      ]
    },
    {
      "cell_type": "markdown",
      "id": "1ca28ee8",
      "metadata": {
        "id": "1ca28ee8"
      },
      "source": [
        "### 2.6 Descriptivos con `describe()` + interpretación"
      ]
    },
    {
      "cell_type": "code",
      "execution_count": 7,
      "id": "425a9a12-2d3b-4fdf-856f-5de06cb7adc0",
      "metadata": {
        "colab": {
          "base_uri": "https://localhost:8080/"
        },
        "id": "425a9a12-2d3b-4fdf-856f-5de06cb7adc0",
        "outputId": "fe9480c4-c9cd-4af9-adaf-d00871a7e112"
      },
      "outputs": [
        {
          "output_type": "stream",
          "name": "stdout",
          "text": [
            "+-------+------------------+-----------------+-----------------+-----------------+-----------------+-----------------+\n",
            "|summary|Open              |High             |Low              |Close            |Volume           |Adj Close        |\n",
            "+-------+------------------+-----------------+-----------------+-----------------+-----------------+-----------------+\n",
            "|count  |1258              |1258             |1258             |1258             |1258             |1258             |\n",
            "|mean   |72.35785375357709 |72.83938807631165|71.9186009594594 |72.38844998012726|8222093.481717011|67.23883848728146|\n",
            "|stddev |6.76809024470826  |6.768186808159218|6.744075756255496|6.756859163732991|4519780.8431556  |6.722609449996857|\n",
            "|min    |56.389998999999996|57.060001        |56.299999        |56.419998        |2094900          |50.363689        |\n",
            "|max    |90.800003         |90.970001        |89.25            |90.470001        |80898100         |84.91421600000001|\n",
            "+-------+------------------+-----------------+-----------------+-----------------+-----------------+-----------------+\n",
            "\n"
          ]
        }
      ],
      "source": [
        "from pyspark.sql import functions as F, types as T\n",
        "\n",
        "#Seleccionar columnas numéricas para describir\n",
        "numeric_types = (T.DoubleType, T.IntegerType, T.LongType, T.FloatType, T.ShortType, T.DecimalType)\n",
        "num_cols = [f.name for f in df_stocks.schema.fields if isinstance(f.dataType, numeric_types)]\n",
        "\n",
        "#Validar que existan columnas numéricas\n",
        "if not num_cols:\n",
        "    raise ValueError(\"No se detectaron columnas numéricas para describir. Revisa el esquema/lectura del CSV.\")\n",
        "\n",
        "#Descriptivos básicos con describe()\n",
        "desc_basic = df_stocks.select(num_cols).describe()\n",
        "desc_basic.show(truncate=False)\n"
      ]
    },
    {
      "cell_type": "markdown",
      "id": "2a4d9e2d",
      "metadata": {
        "id": "2a4d9e2d"
      },
      "source": [
        "*(Escriba aquí sus interpretaciones de al menos dos métricas de `describe()`)*"
      ]
    },
    {
      "cell_type": "markdown",
      "source": [
        "### Interpretación de métricas:\n",
        "\n",
        "- Media y desviación estándar del precio de cierre (Close)\n",
        "\n",
        "  - Media ≈ 72.39; desviación estándar ≈ 6.76.\n",
        "\n",
        "En el periodo observado (n = 1,258 sesiones), el precio de cierre típico de la acción se sitúa alrededor de 72.39. La variabilidad relativa es moderada (CV ≈ 9.3%), lo que sugiere que, aunque existen fluctuaciones diarias, el precio se ha mantenido en un rango relativamente acotado respecto de su nivel medio.\n",
        "\n",
        "- Media y desviación estándar del volumen (Volume)\n",
        "\n",
        "  - Media ≈ 8.22 millones; desviación estándar ≈ 4.52 millones.\n",
        "\n",
        "El volumen promedio negociado por sesión es cercano a 8.22 millones de acciones, pero presenta una dispersión alta (CV ≈ 54.9%). Esto indica que la actividad de negociación varía de forma marcada entre sesiones, con días de negociación significativamente más intensa alternando con días de menor actividad."
      ],
      "metadata": {
        "id": "kprMKR8JlTvC"
      },
      "id": "kprMKR8JlTvC"
    },
    {
      "cell_type": "markdown",
      "id": "311e3d2e",
      "metadata": {
        "id": "311e3d2e"
      },
      "source": [
        "### 2.7 Máximo y mínimo de `Volume`"
      ]
    },
    {
      "cell_type": "code",
      "execution_count": 8,
      "id": "9d73db8b",
      "metadata": {
        "colab": {
          "base_uri": "https://localhost:8080/"
        },
        "id": "9d73db8b",
        "outputId": "8cee2f41-b6d7-4ed6-beaf-aca07ca6ff4d"
      },
      "outputs": [
        {
          "output_type": "stream",
          "name": "stdout",
          "text": [
            "+----------+----------+\n",
            "|max_volume|min_volume|\n",
            "+----------+----------+\n",
            "|  80898100|   2094900|\n",
            "+----------+----------+\n",
            "\n",
            "Max Volume: 80,898,100\n",
            "Min Volume: 2,094,900\n"
          ]
        }
      ],
      "source": [
        "#Agregación para máx y mín\n",
        "agg_volume = df_stocks.agg(\n",
        "    F.max(\"Volume\").alias(\"max_volume\"),\n",
        "    F.min(\"Volume\").alias(\"min_volume\")\n",
        ")\n",
        "\n",
        "agg_volume.show()\n",
        "\n",
        "vol_metrics = agg_volume.first()\n",
        "max_volume = vol_metrics[\"max_volume\"]\n",
        "min_volume = vol_metrics[\"min_volume\"]\n",
        "\n",
        "print(f\"Max Volume: {max_volume:,d}\")\n",
        "print(f\"Min Volume: {min_volume:,d}\")"
      ]
    },
    {
      "cell_type": "markdown",
      "id": "ddb1bdcf",
      "metadata": {
        "id": "ddb1bdcf"
      },
      "source": [
        "### 2.8 ¿Cuántos días tuvieron `Close < 60`?"
      ]
    },
    {
      "cell_type": "code",
      "execution_count": 10,
      "id": "72a4eafe",
      "metadata": {
        "colab": {
          "base_uri": "https://localhost:8080/"
        },
        "id": "72a4eafe",
        "outputId": "c54fe827-074c-4e8e-9ba8-47259ba848ee"
      },
      "outputs": [
        {
          "output_type": "stream",
          "name": "stdout",
          "text": [
            "Días con Close < 60: 81\n",
            "+----------+------------------+\n",
            "|Date      |Close             |\n",
            "+----------+------------------+\n",
            "|2015-11-13|56.419998         |\n",
            "|2015-11-12|56.950001         |\n",
            "|2015-10-30|57.240002000000004|\n",
            "|2012-04-25|57.360001000000004|\n",
            "|2015-10-27|57.48             |\n",
            "|2015-11-11|57.580002         |\n",
            "|2015-11-02|57.610001000000004|\n",
            "|2015-10-28|57.639998999999996|\n",
            "|2012-04-24|57.77             |\n",
            "|2015-11-16|57.869999         |\n",
            "+----------+------------------+\n",
            "only showing top 10 rows\n",
            "\n"
          ]
        }
      ],
      "source": [
        "#Filtrar días con Close definido y menor a 60\n",
        "days_close_lt_60 = (\n",
        "    df_stocks\n",
        "    .filter(F.col(\"Close\").isNotNull() & (F.col(\"Close\") < 60))\n",
        "    .count()\n",
        ")\n",
        "\n",
        "print(f\"Días con Close < 60: {days_close_lt_60}\")\n",
        "\n",
        "\n",
        "(\n",
        "    df_stocks\n",
        "    .filter(F.col(\"Close\") < 60)\n",
        "    .select(\"Date\", \"Close\")\n",
        "    .orderBy(F.col(\"Close\").asc())\n",
        "    .show(10, truncate=False)\n",
        ")"
      ]
    },
    {
      "cell_type": "markdown",
      "id": "47a4df27",
      "metadata": {
        "id": "47a4df27"
      },
      "source": [
        "### 2.9 Crée la columna `Tasa_HV = High/Volume`"
      ]
    },
    {
      "cell_type": "code",
      "execution_count": 11,
      "id": "0829902a",
      "metadata": {
        "colab": {
          "base_uri": "https://localhost:8080/"
        },
        "id": "0829902a",
        "outputId": "0d9b50db-d3b3-41bc-d7c4-dbaabb668263"
      },
      "outputs": [
        {
          "output_type": "stream",
          "name": "stdout",
          "text": [
            "root\n",
            " |-- High: double (nullable = true)\n",
            " |-- Volume: integer (nullable = true)\n",
            " |-- Tasa_HV: double (nullable = true)\n",
            "\n",
            "+----------+---------+--------+--------------------+\n",
            "|Date      |High     |Volume  |Tasa_HV             |\n",
            "+----------+---------+--------+--------------------+\n",
            "|2012-01-03|61.060001|12668800|4.819714653321546E-6|\n",
            "|2012-01-04|60.349998|9593300 |6.290848613094555E-6|\n",
            "|2012-01-05|59.619999|12768200|4.669412994783916E-6|\n",
            "|2012-01-06|59.450001|8069400 |7.367338463826307E-6|\n",
            "|2012-01-09|59.549999|6679300 |8.915604778943901E-6|\n",
            "+----------+---------+--------+--------------------+\n",
            "only showing top 5 rows\n",
            "\n"
          ]
        }
      ],
      "source": [
        "df_stocks_feat = (\n",
        "    df_stocks\n",
        "    .withColumn(\n",
        "        \"Tasa_HV\",\n",
        "        F.when(F.col(\"High\").isNotNull() & F.col(\"Volume\").isNotNull() & (F.col(\"Volume\") > 0),\n",
        "               (F.col(\"High\") / F.col(\"Volume\")).cast(T.DoubleType()))\n",
        "         .otherwise(F.lit(None).cast(T.DoubleType()))\n",
        "    )\n",
        ").cache()\n",
        "\n",
        "#Verificar tipo de la nueva columna y primera muestra\n",
        "df_stocks_feat.select(\"High\", \"Volume\", \"Tasa_HV\").printSchema()\n",
        "df_stocks_feat.select(\"Date\", \"High\", \"Volume\", \"Tasa_HV\").show(5, truncate=False)"
      ]
    },
    {
      "cell_type": "markdown",
      "source": [
        "La métrica Tasa_HV relaciona el nivel de precio intradía máximo (High) con la intensidad de negociación (Volume). Una Tasa_HV más alta sugiere que, para un mismo volumen, el precio logró máximos relativamente mayores (o, equivalente, que con poco volumen se alcanzaron máximos altos), lo que puede señalar movimientos “caros” en términos de liquidez y posibles episodios de menor profundidad del libro de órdenes. A la inversa, valores bajos indican que máximos similares requirieron más volumen, coherente con mayor presión/participación del mercado."
      ],
      "metadata": {
        "id": "0DlDgAALtIZC"
      },
      "id": "0DlDgAALtIZC"
    },
    {
      "cell_type": "markdown",
      "id": "91d90513",
      "metadata": {
        "id": "91d90513"
      },
      "source": [
        "### 2.10 ¿Qué porcentaje del tiempo `High > 80`?"
      ]
    },
    {
      "cell_type": "code",
      "execution_count": 12,
      "id": "69b5e558",
      "metadata": {
        "colab": {
          "base_uri": "https://localhost:8080/"
        },
        "id": "69b5e558",
        "outputId": "21a25952-62a6-4e5b-aeb0-7c28b782fad7"
      },
      "outputs": [
        {
          "output_type": "stream",
          "name": "stdout",
          "text": [
            "Días con High > 80: 115 de 1258\n",
            "Porcentaje del tiempo con High > 80: 9.14%\n",
            "+----------+-----------------+\n",
            "|Date      |High             |\n",
            "+----------+-----------------+\n",
            "|2013-11-25|80.57            |\n",
            "|2013-11-26|80.68            |\n",
            "|2013-11-27|81.0             |\n",
            "|2013-11-29|81.349998        |\n",
            "|2013-12-02|81.279999        |\n",
            "|2013-12-03|81.33000200000001|\n",
            "|2013-12-04|81.370003        |\n",
            "|2013-12-06|80.230003        |\n",
            "|2013-12-09|80.43            |\n",
            "|2014-11-10|80.129997        |\n",
            "+----------+-----------------+\n",
            "only showing top 10 rows\n",
            "\n"
          ]
        }
      ],
      "source": [
        "#Denominador: días con High no nulo\n",
        "total_dias = df_stocks_feat.filter(F.col(\"High\").isNotNull()).count()\n",
        "\n",
        "#Numerador: días con High > 80\n",
        "dias_high_gt_80 = (\n",
        "    df_stocks_feat\n",
        "    .filter(F.col(\"High\").isNotNull() & (F.col(\"High\") > 80))\n",
        "    .count()\n",
        ")\n",
        "\n",
        "porcentaje_high_gt_80 = (dias_high_gt_80 / total_dias * 100.0) if total_dias > 0 else 0.0\n",
        "\n",
        "print(f\"Días con High > 80: {dias_high_gt_80} de {total_dias}\")\n",
        "print(f\"Porcentaje del tiempo con High > 80: {porcentaje_high_gt_80:.2f}%\")\n",
        "\n",
        "(\n",
        "    df_stocks_feat\n",
        "    .filter(F.col(\"High\") > 80)\n",
        "    .select(\"Date\", \"High\")\n",
        "    .orderBy(F.col(\"Date\").asc())\n",
        "    .show(10, truncate=False)\n",
        ")"
      ]
    },
    {
      "cell_type": "markdown",
      "id": "f57ee1dd",
      "metadata": {
        "id": "f57ee1dd"
      },
      "source": [
        "### 2.11 Correlación de Pearson entre `High` y `Volume` + interpretación"
      ]
    },
    {
      "cell_type": "code",
      "execution_count": 13,
      "id": "84a5c76a",
      "metadata": {
        "colab": {
          "base_uri": "https://localhost:8080/"
        },
        "id": "84a5c76a",
        "outputId": "abe4067d-09f1-4f68-d873-7042bf4e2194"
      },
      "outputs": [
        {
          "output_type": "stream",
          "name": "stdout",
          "text": [
            "n = 1258\n",
            "Correlación de Pearson (High vs. Volume): r = -0.3384\n",
            "Coeficiente de determinación aproximado: r^2 = 0.1145\n"
          ]
        }
      ],
      "source": [
        "df_base = globals().get(\"df_stocks_feat\", globals().get(\"df_stocks\"))\n",
        "\n",
        "#Subconjunto con columnas requeridas y sin nulos/volumen no positivo\n",
        "df_corr = (\n",
        "    df_base\n",
        "    .select(\"High\", \"Volume\")\n",
        "    .filter(F.col(\"High\").isNotNull() & F.col(\"Volume\").isNotNull() & (F.col(\"Volume\") > 0))\n",
        "    .cache()\n",
        ")\n",
        "\n",
        "#Correlación de Pearson\n",
        "r_high_volume = df_corr.stat.corr(\"High\", \"Volume\", method=\"pearson\")\n",
        "n_obs = df_corr.count()\n",
        "\n",
        "print(f\"n = {n_obs}\")\n",
        "print(f\"Correlación de Pearson (High vs. Volume): r = {r_high_volume:.4f}\")\n",
        "\n",
        "r2 = (r_high_volume ** 2) if r_high_volume is not None else None\n",
        "if r2 is not None:\n",
        "    print(f\"Coeficiente de determinación aproximado: r^2 = {r2:.4f}\")\n"
      ]
    },
    {
      "cell_type": "markdown",
      "id": "fad6d42b",
      "metadata": {
        "id": "fad6d42b"
      },
      "source": [
        "*(Escriba aquí una interpretación breve del signo y magnitud de la correlación)*"
      ]
    },
    {
      "cell_type": "markdown",
      "source": [
        "La correlación r=-0.3384 indica una relación lineal negativa débil-moderada: en días con mayores máximos intradía (High), tiende a negociarse menos volumen, y viceversa. Su magnitud implica que la asociación es limitada: r^2 ≈ 0.1145 sugiere que ≈11.5% de la variabilidad de High se relaciona linealmente con Volume; el resto responde a otros factores o relaciones no lineales."
      ],
      "metadata": {
        "id": "zhAYLA0Ct82u"
      },
      "id": "zhAYLA0Ct82u"
    },
    {
      "cell_type": "markdown",
      "id": "978e6d94",
      "metadata": {
        "id": "978e6d94"
      },
      "source": [
        "### 2.12 ¿Qué día tuvo el **precio más alto** (`High`)? Devuelva la fila completa"
      ]
    },
    {
      "cell_type": "code",
      "execution_count": 14,
      "id": "bb8a8ed6",
      "metadata": {
        "colab": {
          "base_uri": "https://localhost:8080/"
        },
        "id": "bb8a8ed6",
        "outputId": "29d2bc5c-5931-4786-a987-c97c2ae618c0"
      },
      "outputs": [
        {
          "output_type": "stream",
          "name": "stdout",
          "text": [
            "Valor máximo de High: 90.970001\n",
            "+----------+---------+---------+-----+---------+-------+---------+\n",
            "|Date      |Open     |High     |Low  |Close    |Volume |Adj Close|\n",
            "+----------+---------+---------+-----+---------+-------+---------+\n",
            "|2015-01-13|90.800003|90.970001|88.93|89.309998|8215400|83.825448|\n",
            "+----------+---------+---------+-----+---------+-------+---------+\n",
            "\n"
          ]
        }
      ],
      "source": [
        "df_base = df_stocks.cache()\n",
        "\n",
        "#Obtener el valor máximo de High\n",
        "max_high = df_base.agg(F.max(\"High\").alias(\"max_high\")).first()[\"max_high\"]\n",
        "\n",
        "#Devolver las filas\n",
        "df_max_high_rows = (\n",
        "    df_base\n",
        "    .filter(F.col(\"High\") == max_high)\n",
        "    .orderBy(F.col(\"Date\").asc())\n",
        ")\n",
        "\n",
        "print(f\"Valor máximo de High: {max_high}\")\n",
        "df_max_high_rows.show(truncate=False)"
      ]
    },
    {
      "cell_type": "markdown",
      "id": "61337e44",
      "metadata": {
        "id": "61337e44"
      },
      "source": [
        "### 2.13 **Media** de la columna `Close`"
      ]
    },
    {
      "cell_type": "code",
      "execution_count": 15,
      "id": "d9bb18c3",
      "metadata": {
        "colab": {
          "base_uri": "https://localhost:8080/"
        },
        "id": "d9bb18c3",
        "outputId": "b341cde1-3500-42ca-99d4-e42d270e4c77"
      },
      "outputs": [
        {
          "output_type": "stream",
          "name": "stdout",
          "text": [
            "Media de Close: 72.388450\n"
          ]
        }
      ],
      "source": [
        "mean_close_row = df_base.agg(F.mean(\"Close\").alias(\"mean_close\")).first()\n",
        "mean_close = mean_close_row[\"mean_close\"]\n",
        "\n",
        "print(f\"Media de Close: {mean_close:.6f}\")"
      ]
    },
    {
      "cell_type": "markdown",
      "id": "1eaa741f",
      "metadata": {
        "id": "1eaa741f"
      },
      "source": [
        "### 2.14 **Máximo `High` por año**"
      ]
    },
    {
      "cell_type": "code",
      "execution_count": 16,
      "id": "ab7e4ce6",
      "metadata": {
        "colab": {
          "base_uri": "https://localhost:8080/"
        },
        "id": "ab7e4ce6",
        "outputId": "5a052f81-3621-45c0-9ec4-3d66920adb59"
      },
      "outputs": [
        {
          "output_type": "stream",
          "name": "stdout",
          "text": [
            "+----+-------------+\n",
            "|Year|max_high_year|\n",
            "+----+-------------+\n",
            "|2012|77.599998    |\n",
            "|2013|81.370003    |\n",
            "|2014|88.089996    |\n",
            "|2015|90.970001    |\n",
            "|2016|75.190002    |\n",
            "+----+-------------+\n",
            "\n"
          ]
        }
      ],
      "source": [
        "#Máximo por año cronológicamente\n",
        "df_high_by_year = (\n",
        "    df_base\n",
        "    .withColumn(\"Year\", F.year(\"Date\"))\n",
        "    .groupBy(\"Year\")\n",
        "    .agg(F.max(\"High\").alias(\"max_high_year\"))\n",
        "    .orderBy(F.col(\"Year\").asc())\n",
        ")\n",
        "\n",
        "df_high_by_year.show(truncate=False)"
      ]
    },
    {
      "cell_type": "markdown",
      "id": "846fa50f",
      "metadata": {
        "id": "846fa50f"
      },
      "source": [
        "## 3) Conclusiones (5–10 líneas)"
      ]
    },
    {
      "cell_type": "markdown",
      "id": "fcdad48c",
      "metadata": {
        "id": "fcdad48c"
      },
      "source": [
        "*Escriba aquí sus principales hallazgos e interpretaciones.*"
      ]
    },
    {
      "cell_type": "markdown",
      "id": "ca4963c8",
      "metadata": {
        "id": "ca4963c8"
      },
      "source": [
        "## Buenas prácticas\n",
        "- Comente bloques no triviales.\n",
        "- Nombres de variables **claros** (`df_prices`, `max_high_year`, etc.).\n",
        "- Reutilice resultados intermedios para evitar recalcular.\n",
        "- Si usa Colab, fije versiones cuando sea necesario.\n",
        "- Cierre la sesión de Spark al final si corre local: `spark.stop()`.\n"
      ]
    },
    {
      "cell_type": "markdown",
      "id": "5663a977",
      "metadata": {
        "id": "5663a977"
      },
      "source": [
        "## Errores comunes\n",
        "- Olvidar `inferSchema=True` → todo se carga como `string`.\n",
        "- Mezclar API RDD con DataFrames sin necesidad.\n",
        "- Usar funciones de Python puras en `withColumn` (use `pyspark.sql.functions`).\n",
        "- Intentar graficar DataFrames de Spark directamente: primero **convierta** a Pandas con `.toPandas()` en subconjuntos pequeños.\n"
      ]
    },
    {
      "cell_type": "markdown",
      "id": "0d651d75",
      "metadata": {
        "id": "0d651d75"
      },
      "source": [
        "## Rúbrica de evaluación (100 puntos)\n",
        "**A. Preparación del ambiente** (10 pts)\n",
        "- (10) SparkSession creada sin errores; versiones y entorno claros.\n",
        "\n",
        "**B. Carga y documentación de datos** (15 pts)\n",
        "- (8) CSV cargado con `header` y `inferSchema` correctos.\n",
        "- (7) Comentarios breves sobre las columnas y supuestos.\n",
        "\n",
        "**C. Exploración básica** (10 pts)\n",
        "- (4) Lista de columnas.\n",
        "- (3) `printSchema()` bien interpretado.\n",
        "- (3) `show(5)` con observaciones puntuales.\n",
        "\n",
        "**D. Descriptivos** (10 pts)\n",
        "- (6) `describe()` ejecutado y leído correctamente.\n",
        "- (4) Al menos 2 interpretaciones numéricas.\n",
        "\n",
        "**E. Agregaciones y filtros** (10 pts)\n",
        "- (5) Máx./mín. de `Volume` correctos.\n",
        "- (5) Conteo de días con `Close < 60` correcto.\n",
        "\n",
        "**F. Ingeniería de características** (10 pts)\n",
        "- (8) Columna `Tasa_HV = High/Volume` correcta y con tipo numérico.\n",
        "- (2) Justificación breve del indicador.\n",
        "\n",
        "**G. Métricas estadísticas** (10 pts)\n",
        "- (7) Correlación `High`–`Volume` calculada.\n",
        "- (3) Interpretación del valor (signo y magnitud).\n",
        "\n",
        "**H. Consultas temporales** (10 pts)\n",
        "- (5) Día con `High` máximo identificado.\n",
        "- (5) Máximo `High` por año con agrupación y orden correctos.\n",
        "\n",
        "**I. Comunicación de resultados** (10 pts)\n",
        "- (6) Conclusiones finales claras y concisas (5–10 líneas).\n",
        "- (4) Orden, legibilidad y limpieza del notebook.\n",
        "\n",
        "**J. Estilo y calidad de código** (5 pts)\n",
        "- (5) Convenciones PEP8 razonables, nombres significativos y ausencia de código muerto.\n",
        "\n",
        "> **Total: 100 puntos**\n"
      ]
    },
    {
      "cell_type": "code",
      "execution_count": 7,
      "id": "3a9c20de-edea-4fec-9e34-af294fd22482",
      "metadata": {
        "id": "3a9c20de-edea-4fec-9e34-af294fd22482"
      },
      "outputs": [],
      "source": []
    }
  ],
  "metadata": {
    "kernelspec": {
      "display_name": "Python 3",
      "name": "python3"
    },
    "language_info": {
      "codemirror_mode": {
        "name": "ipython",
        "version": 3
      },
      "file_extension": ".py",
      "mimetype": "text/x-python",
      "name": "python",
      "nbconvert_exporter": "python",
      "pygments_lexer": "ipython3",
      "version": "3.13.7"
    },
    "colab": {
      "provenance": []
    }
  },
  "nbformat": 4,
  "nbformat_minor": 5
}